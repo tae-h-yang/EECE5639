{
 "cells": [
  {
   "cell_type": "code",
   "execution_count": 7,
   "id": "65fc3b84-4adc-4531-8403-4680742c502c",
   "metadata": {},
   "outputs": [
    {
     "name": "stdout",
     "output_type": "stream",
     "text": [
      "[[0 1 2 3 4 5 6 7]\n",
      " [1 0 1 2 3 4 5 6]\n",
      " [2 1 0 1 2 3 4 5]\n",
      " [3 2 1 0 1 2 3 4]\n",
      " [4 3 2 1 0 1 2 3]\n",
      " [5 4 3 2 1 0 1 2]\n",
      " [6 5 4 3 2 1 0 1]\n",
      " [7 6 5 4 3 2 1 0]]\n"
     ]
    }
   ],
   "source": [
    "import numpy as np\n",
    "\n",
    "image = [[abs(i - j) for j in range(8)] for i in range(8)]\n",
    "image_array = np.array(image)\n",
    "\n",
    "print(image_array)"
   ]
  },
  {
   "cell_type": "code",
   "execution_count": null,
   "id": "2bc71274-d929-46f7-8e73-da384e1fc3cc",
   "metadata": {},
   "outputs": [],
   "source": []
  }
 ],
 "metadata": {
  "kernelspec": {
   "display_name": "Python 3 (ipykernel)",
   "language": "python",
   "name": "python3"
  },
  "language_info": {
   "codemirror_mode": {
    "name": "ipython",
    "version": 3
   },
   "file_extension": ".py",
   "mimetype": "text/x-python",
   "name": "python",
   "nbconvert_exporter": "python",
   "pygments_lexer": "ipython3",
   "version": "3.8.17"
  }
 },
 "nbformat": 4,
 "nbformat_minor": 5
}

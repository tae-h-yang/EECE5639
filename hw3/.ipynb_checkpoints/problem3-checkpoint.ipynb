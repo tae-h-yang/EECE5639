{
 "cells": [
  {
   "cell_type": "code",
   "execution_count": 6,
   "id": "6fd7a510-5e25-400a-811e-9fba70c70105",
   "metadata": {},
   "outputs": [
    {
     "name": "stdout",
     "output_type": "stream",
     "text": [
      "SSD values for each position (ignoring borders):\n",
      " [[24. 28. 24. 12.  8.  8.]\n",
      " [16. 12. 16.  8. 12.  8.]\n",
      " [ 8.  8. 12.  8. 16.  8.]\n",
      " [10.  7.  9. 12. 28. 20.]\n",
      " [ 9. 12.  9. 12. 24. 20.]\n",
      " [ 0.  7.  7.  8. 12.  8.]]\n"
     ]
    }
   ],
   "source": [
    "import numpy as np\n",
    "\n",
    "# Define the matrix f (8x8)\n",
    "f = np.array([\n",
    "    [0, 0, 0, 0, 0, 0, 0, 0],\n",
    "    [0, 2, 4, 2, 0, 0, 0, 0],\n",
    "    [0, 2, 0, 0, 0, 0, 0, 0],\n",
    "    [0, 0, 2, 0, 0, 0, 2, 0],\n",
    "    [0, 0, 0, 0, 0, 0, 2, 0],\n",
    "    [1, 2, 1, 0, 0, 2, 4, 2],\n",
    "    [0, 1, 0, 0, 0, 0, 0, 0],\n",
    "    [0, 1, 0, 0, 0, 0, 0, 0]\n",
    "])\n",
    "\n",
    "# Define the matrix g (3x3)\n",
    "g = np.array([\n",
    "    [1, 2, 1],\n",
    "    [0, 1, 0],\n",
    "    [0, 1, 0]\n",
    "])\n",
    "\n",
    "# Calculate the size of padding needed for valid convolution\n",
    "pad_height = g.shape[0] // 2\n",
    "pad_width = g.shape[1] // 2\n",
    "\n",
    "# Initialize an array to store SSD values\n",
    "ssd_values = np.zeros((f.shape[0] - 2*pad_height, f.shape[1] - 2*pad_width))\n",
    "\n",
    "# Iterate over the pixels of the original image f\n",
    "for i in range(pad_height, f.shape[0] - pad_height):\n",
    "    for j in range(pad_width, f.shape[1] - pad_width):\n",
    "        # Extract the region of interest from the padded image\n",
    "        region = f[i-pad_height:i+pad_height+1, j-pad_width:j+pad_width+1]\n",
    "        # Calculate the SSD between the region and the template g\n",
    "        ssd = np.sum((region - g) ** 2)\n",
    "        # Store the SSD value\n",
    "        ssd_values[i-pad_height, j-pad_width] = ssd\n",
    "\n",
    "print(\"SSD values for each position (ignoring borders):\\n\", ssd_values)"
   ]
  },
  {
   "cell_type": "code",
   "execution_count": 8,
   "id": "cefa69f0-36fd-4aec-97d0-1d0a6146f132",
   "metadata": {},
   "outputs": [
    {
     "name": "stdout",
     "output_type": "stream",
     "text": [
      "Correlation values for each position (ignoring borders):\n",
      " [[ 4.  4.  2.  0.  0.  0.]\n",
      " [10. 14.  8.  2.  0.  2.]\n",
      " [ 4.  4.  0.  0.  0.  4.]\n",
      " [ 4.  5.  2.  0.  4. 10.]\n",
      " [ 3.  1.  0.  0.  4.  8.]\n",
      " [ 8.  4.  1.  2.  8. 12.]]\n"
     ]
    }
   ],
   "source": [
    "# Initialize an array to store correlation values\n",
    "correlation_values = np.zeros((f.shape[0] - 2*pad_height, f.shape[1] - 2*pad_width))\n",
    "\n",
    "# Iterate over the pixels of the original image f\n",
    "for i in range(pad_height, f.shape[0] - pad_height):\n",
    "    for j in range(pad_width, f.shape[1] - pad_width):\n",
    "        # Extract the region of interest from the padded image\n",
    "        region = f[i-pad_height:i+pad_height+1, j-pad_width:j+pad_width+1]\n",
    "        # Calculate the SSD between the region and the template g\n",
    "        correlation = np.sum(region*g)\n",
    "        # Store the SSD value\n",
    "        correlation_values[i-pad_height, j-pad_width] = correlation\n",
    "\n",
    "print(\"Correlation values for each position (ignoring borders):\\n\", correlation_values)"
   ]
  },
  {
   "cell_type": "code",
   "execution_count": 9,
   "id": "d09b76e3-3f07-4995-9810-f2b82a75f460",
   "metadata": {},
   "outputs": [
    {
     "name": "stdout",
     "output_type": "stream",
     "text": [
      "Normalized correlation values for each position (ignoring borders):\n",
      " [[-1.62221421e-01 -3.24442842e-01 -2.50000000e-01 -3.53553391e-01\n",
      "              nan             nan]\n",
      " [ 4.05553553e-01  7.50000000e-01  3.24442842e-01  1.76776695e-01\n",
      "  -3.53553391e-01  1.76776695e-01]\n",
      " [ 2.67261242e-01  2.67261242e-01 -3.53553391e-01             nan\n",
      "  -5.34522484e-01  2.67261242e-01]\n",
      " [ 5.66558315e-18  3.34076552e-01  1.38777878e-17 -3.53553391e-01\n",
      "  -3.24442842e-01  2.50000000e-01]\n",
      " [-8.11107106e-02 -4.05553553e-01 -3.53553391e-01 -3.53553391e-01\n",
      "  -1.62221421e-01  1.62221421e-01]\n",
      " [ 1.00000000e+00  1.62221421e-01  1.76776695e-01  1.76776695e-01\n",
      "   5.00000000e-01  8.11107106e-01]]\n"
     ]
    },
    {
     "name": "stderr",
     "output_type": "stream",
     "text": [
      "/var/folders/tl/rv00j3kx04s2zm4w0_z876180000gn/T/ipykernel_98040/3475315267.py:18: RuntimeWarning: invalid value encountered in scalar divide\n",
      "  normalized_correlation = numerator / denominator\n"
     ]
    }
   ],
   "source": [
    "# Initialize an array to store normalized correlation values\n",
    "normalized_correlation_values = np.zeros((f.shape[0] - 2*pad_height, f.shape[1] - 2*pad_width))\n",
    "\n",
    "# Iterate over the pixels of the original image f\n",
    "for i in range(pad_height, f.shape[0] - pad_height):\n",
    "    for j in range(pad_width, f.shape[1] - pad_width):\n",
    "        # Extract the region of interest from the padded image\n",
    "        region = f[i-pad_height:i+pad_height+1, j-pad_width:j+pad_width+1]\n",
    "        \n",
    "        # Calculate the mean of the region\n",
    "        mean_region = np.mean(region)\n",
    "        # Calculate the mean of the template g\n",
    "        mean_g = np.mean(g)\n",
    "        \n",
    "        # Calculate the normalized correlation between the region and the template g\n",
    "        numerator = np.sum((region - mean_region) * (g - mean_g))\n",
    "        denominator = np.sqrt(np.sum((region - mean_region)**2) * np.sum((g - mean_g)**2))\n",
    "        normalized_correlation = numerator / denominator\n",
    "        \n",
    "        # Store the normalized correlation value\n",
    "        normalized_correlation_values[i-pad_height, j-pad_width] = normalized_correlation\n",
    "\n",
    "print(\"Normalized correlation values for each position (ignoring borders):\\n\", normalized_correlation_values)"
   ]
  },
  {
   "cell_type": "code",
   "execution_count": 10,
   "id": "47bfde6b-5cfe-4df0-b2c4-68c88bb8feb8",
   "metadata": {},
   "outputs": [
    {
     "name": "stdout",
     "output_type": "stream",
     "text": [
      "Normalized correlation values for each position (ignoring borders):\n",
      " [[-0.162 -0.324 -0.25  -0.354    nan    nan]\n",
      " [ 0.406  0.75   0.324  0.177 -0.354  0.177]\n",
      " [ 0.267  0.267 -0.354    nan -0.535  0.267]\n",
      " [ 0.     0.334  0.    -0.354 -0.324  0.25 ]\n",
      " [-0.081 -0.406 -0.354 -0.354 -0.162  0.162]\n",
      " [ 1.     0.162  0.177  0.177  0.5    0.811]]\n"
     ]
    },
    {
     "name": "stderr",
     "output_type": "stream",
     "text": [
      "/var/folders/tl/rv00j3kx04s2zm4w0_z876180000gn/T/ipykernel_98040/171277563.py:18: RuntimeWarning: invalid value encountered in scalar divide\n",
      "  normalized_correlation = numerator / denominator\n"
     ]
    }
   ],
   "source": [
    "# Initialize an array to store normalized correlation values\n",
    "normalized_correlation_values = np.zeros((f.shape[0] - 2*pad_height, f.shape[1] - 2*pad_width))\n",
    "\n",
    "# Iterate over the pixels of the original image f\n",
    "for i in range(pad_height, f.shape[0] - pad_height):\n",
    "    for j in range(pad_width, f.shape[1] - pad_width):\n",
    "        # Extract the region of interest from the padded image\n",
    "        region = f[i-pad_height:i+pad_height+1, j-pad_width:j+pad_width+1]\n",
    "        \n",
    "        # Calculate the mean of the region\n",
    "        mean_region = np.mean(region)\n",
    "        # Calculate the mean of the template g\n",
    "        mean_g = np.mean(g)\n",
    "        \n",
    "        # Calculate the normalized correlation between the region and the template g\n",
    "        numerator = np.sum((region - mean_region) * (g - mean_g))\n",
    "        denominator = np.sqrt(np.sum((region - mean_region)**2) * np.sum((g - mean_g)**2))\n",
    "        normalized_correlation = numerator / denominator\n",
    "        \n",
    "        # Store the normalized correlation value, rounded to three decimal places\n",
    "        normalized_correlation_values[i-pad_height, j-pad_width] = np.around(normalized_correlation, 3)\n",
    "\n",
    "print(\"Normalized correlation values for each position (ignoring borders):\\n\", normalized_correlation_values)"
   ]
  },
  {
   "cell_type": "code",
   "execution_count": null,
   "id": "b74cb729-1efe-4ba6-af0b-462ed683588c",
   "metadata": {},
   "outputs": [],
   "source": []
  }
 ],
 "metadata": {
  "kernelspec": {
   "display_name": "Python 3 (ipykernel)",
   "language": "python",
   "name": "python3"
  },
  "language_info": {
   "codemirror_mode": {
    "name": "ipython",
    "version": 3
   },
   "file_extension": ".py",
   "mimetype": "text/x-python",
   "name": "python",
   "nbconvert_exporter": "python",
   "pygments_lexer": "ipython3",
   "version": "3.8.17"
  }
 },
 "nbformat": 4,
 "nbformat_minor": 5
}
